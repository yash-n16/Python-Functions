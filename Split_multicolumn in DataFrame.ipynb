{
 "cells": [
  {
   "cell_type": "markdown",
   "id": "9b629920",
   "metadata": {},
   "source": [
    "# Helper function to break one column into entire DataFrame\n",
    "\n",
    "Let us create a helper function split_multicolumn, which turns a column containing lists of values (like survey_df.DevType) into a data frame with one column for each possible option. We can use this for our future analysis, if we require to analyse a column where the respondents have choosen multiple options or checkboxes"
   ]
  },
  {
   "cell_type": "code",
   "execution_count": 2,
   "id": "f98137ca",
   "metadata": {},
   "outputs": [],
   "source": [
    "import pandas as pd\n",
    "\n",
    "def split_multicolumn(col_series):\n",
    "    result_df = col_series.to_frame()\n",
    "    options = []\n",
    "    # Iterate over the column\n",
    "    for idx, value  in col_series[col_series.notnull()].iteritems():\n",
    "        # Break each value into list of options\n",
    "        for option in value.split(';'):\n",
    "            # Add the option as a column to result\n",
    "            if not option in result_df.columns:\n",
    "                options.append(option)\n",
    "                result_df[option] = False\n",
    "            # Mark the value in the option column as True\n",
    "            result_df.at[idx, option] = True\n",
    "    return result_df[options]"
   ]
  },
  {
   "cell_type": "markdown",
   "id": "f8a3b10b",
   "metadata": {},
   "source": [
    "We can use this split_multicolumn, pass the column ('df.col') to this function which has multiple values that are split with';'\n",
    "semicoln. This will return a dataframe of boolean values with all the options indicating 'True' if it is present or 'False' if absent"
   ]
  }
 ],
 "metadata": {
  "kernelspec": {
   "display_name": "Python 3 (ipykernel)",
   "language": "python",
   "name": "python3"
  },
  "language_info": {
   "codemirror_mode": {
    "name": "ipython",
    "version": 3
   },
   "file_extension": ".py",
   "mimetype": "text/x-python",
   "name": "python",
   "nbconvert_exporter": "python",
   "pygments_lexer": "ipython3",
   "version": "3.9.7"
  }
 },
 "nbformat": 4,
 "nbformat_minor": 5
}
